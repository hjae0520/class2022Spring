{
  "nbformat": 4,
  "nbformat_minor": 0,
  "metadata": {
    "colab": {
      "name": "tensorflow_hub.ipynb",
      "provenance": [],
      "include_colab_link": true
    },
    "kernelspec": {
      "name": "python3",
      "display_name": "Python 3"
    },
    "language_info": {
      "name": "python"
    }
  },
  "cells": [
    {
      "cell_type": "markdown",
      "metadata": {
        "id": "view-in-github",
        "colab_type": "text"
      },
      "source": [
        "<a href=\"https://colab.research.google.com/github/hjae0520/class2022Spring/blob/main/tensorflow_hub.ipynb\" target=\"_parent\"><img src=\"https://colab.research.google.com/assets/colab-badge.svg\" alt=\"Open In Colab\"/></a>"
      ]
    },
    {
      "cell_type": "markdown",
      "source": [
        "### [Tensorflow Hub](https://www.tensorflow.org/hub)"
      ],
      "metadata": {
        "id": "8dnF4rJPatAo"
      }
    },
    {
      "cell_type": "markdown",
      "source": [
        "### image classification (e.g. [inception_v3](https://tfhub.dev/google/imagenet/inception_v3/classification/5))"
      ],
      "metadata": {
        "id": "soPd171Hbbma"
      }
    },
    {
      "cell_type": "code",
      "source": [
        "import tensorflow.compat.v2 as tf\n",
        "import tensorflow_hub as hub"
      ],
      "metadata": {
        "id": "VIJXaAwQ9lXX"
      },
      "execution_count": 1,
      "outputs": []
    },
    {
      "cell_type": "code",
      "source": [
        "model = hub.KerasLayer(\"https://tfhub.dev/google/imagenet/inception_v3/classification/5\")"
      ],
      "metadata": {
        "id": "vmzDkBCZZMF-"
      },
      "execution_count": 2,
      "outputs": []
    },
    {
      "cell_type": "code",
      "source": [
        "from PIL import Image           # image 불러오기\n",
        "import requests\n",
        "url = 'http://images.cocodataset.org/val2017/000000039769.jpg'\n",
        "image = Image.open(requests.get(url, stream=True).raw)"
      ],
      "metadata": {
        "id": "f3ztc_fNX79F"
      },
      "execution_count": 3,
      "outputs": []
    },
    {
      "cell_type": "code",
      "source": [
        "import numpy as np\n",
        "image = np.array(image)                       # 이미지를 행렬화 480 x 640이 3장(차원 변경 위함, 3차원, 컬러, 2차원은 흑백)"
      ],
      "metadata": {
        "id": "CNdeJdYyKAJN"
      },
      "execution_count": 4,
      "outputs": []
    },
    {
      "cell_type": "code",
      "source": [
        "image[:,:,0]"
      ],
      "metadata": {
        "id": "H5xhBRqAKAqj"
      },
      "execution_count": null,
      "outputs": []
    },
    {
      "cell_type": "code",
      "source": [
        "# reshape into shape [batch_size, height, width, num_channels]\n",
        "image = tf.reshape(image, [1, image.shape[0], image.shape[1], image.shape[2]])  # 불러온 이미지(3차원)를 4차원으로 변형, 맨 앞 숫자는 이미지의 개수\n",
        "# Use `convert_image_dtype` to convert to floats in the [0,1] range. 수치의 범위를 0 (어두운 색) ~ 1 (밝은 색)으로 조정\n",
        "image = tf.image.convert_image_dtype(image, tf.float32)"
      ],
      "metadata": {
        "id": "Bqm9LV1rC4eK"
      },
      "execution_count": 5,
      "outputs": []
    },
    {
      "cell_type": "code",
      "source": [
        "image[0,:,:,0]"
      ],
      "metadata": {
        "id": "H2wDAUNSKe-0"
      },
      "execution_count": null,
      "outputs": []
    },
    {
      "cell_type": "code",
      "source": [
        "logits = model(image)               # model = 행렬, image = 벡터 --> output = 벡터\n",
        "np.argmax(logits)                   # logits의 1000개 값 (label의 개수) 중 283번째(0~282)가 제일 높은 값 = tabby"
      ],
      "metadata": {
        "id": "CRUy_pik9m3o",
        "outputId": "79cc9329-5c24-40cc-818b-ec178e6c10e9",
        "colab": {
          "base_uri": "https://localhost:8080/"
        }
      },
      "execution_count": 10,
      "outputs": [
        {
          "output_type": "execute_result",
          "data": {
            "text/plain": [
              "282"
            ]
          },
          "metadata": {},
          "execution_count": 10
        }
      ]
    },
    {
      "cell_type": "markdown",
      "source": [
        "> https://storage.googleapis.com/download.tensorflow.org/data/ImageNetLabels.txt"
      ],
      "metadata": {
        "id": "p7zLDQqWaGii"
      }
    }
  ]
}