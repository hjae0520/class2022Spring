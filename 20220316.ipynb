{
  "nbformat": 4,
  "nbformat_minor": 0,
  "metadata": {
    "kernelspec": {
      "display_name": "Python 3",
      "language": "python",
      "name": "python3"
    },
    "language_info": {
      "codemirror_mode": {
        "name": "ipython",
        "version": 3
      },
      "file_extension": ".py",
      "mimetype": "text/x-python",
      "name": "python",
      "nbconvert_exporter": "python",
      "pygments_lexer": "ipython3",
      "version": "3.7.1"
    },
    "colab": {
      "name": "numpy_matplotlib.ipynb",
      "provenance": [],
      "include_colab_link": true
    }
  },
  "cells": [
    {
      "cell_type": "markdown",
      "metadata": {
        "id": "view-in-github",
        "colab_type": "text"
      },
      "source": [
        "<a href=\"https://colab.research.google.com/github/hjae0520/class2022Spring/blob/main/20220316.ipynb\" target=\"_parent\"><img src=\"https://colab.research.google.com/assets/colab-badge.svg\" alt=\"Open In Colab\"/></a>"
      ]
    },
    {
      "cell_type": "markdown",
      "source": [
        "import는 ram에 올려 놓는 것\n",
        "built-in 되어 있지 않은 함수는 인스톨 해야 할 수 있음"
      ],
      "metadata": {
        "id": "91-nfmzU2_6T"
      }
    },
    {
      "cell_type": "markdown",
      "metadata": {
        "id": "JcCdLoe_4bY7"
      },
      "source": [
        "### create nd arrays (≈matrices)"
      ]
    },
    {
      "cell_type": "code",
      "metadata": {
        "id": "5ap7xyofShBB"
      },
      "source": [
        "import numpy as np"
      ],
      "execution_count": 2,
      "outputs": []
    },
    {
      "cell_type": "code",
      "metadata": {
        "id": "2rqpSPZCShBC",
        "colab": {
          "base_uri": "https://localhost:8080/"
        },
        "outputId": "9ba24376-8508-4404-c258-8eebd447ab95"
      },
      "source": [
        "x = np.array([1,2,3])   # list는 계산이 될 수 없음, 이 list를 array로 바꿔주는 것이 np.array 함수\n",
        "print(x)\n",
        "print(type(x))        # class는 특수한 변수를 의미\n",
        "print(x.shape)        # (3,) = 3개짜리 1d array"
      ],
      "execution_count": 3,
      "outputs": [
        {
          "output_type": "stream",
          "name": "stdout",
          "text": [
            "[1 2 3]\n",
            "<class 'numpy.ndarray'>\n",
            "(3,)\n"
          ]
        }
      ]
    },
    {
      "cell_type": "code",
      "metadata": {
        "id": "EjC88C75ShBC",
        "colab": {
          "base_uri": "https://localhost:8080/"
        },
        "outputId": "ac821f3f-64c2-4958-c735-6b7fdaf0047b"
      },
      "source": [
        "x = np.arange(0,10,2)     # arange: 0부터 10까지 2 (increment)의 간격으로, 마지막 항은 포함X\n",
        "print(x)\n",
        "print(type(x))\n",
        "print(x.shape)"
      ],
      "execution_count": 4,
      "outputs": [
        {
          "output_type": "stream",
          "name": "stdout",
          "text": [
            "[0 2 4 6 8]\n",
            "<class 'numpy.ndarray'>\n",
            "(5,)\n"
          ]
        }
      ]
    },
    {
      "cell_type": "code",
      "metadata": {
        "id": "-MwkCEjTShBC",
        "colab": {
          "base_uri": "https://localhost:8080/"
        },
        "outputId": "235d9f03-a2ac-4b38-a59a-2a7fe942a616"
      },
      "source": [
        "x = np.linspace(0,10,6)     # linspace: linear space, 0부터 10까지 (10포함) 등간격으로 나눠서 총 6개의 숫자를 만듦\n",
        "print(x)\n",
        "print(type(x))\n",
        "print(x.shape)"
      ],
      "execution_count": 5,
      "outputs": [
        {
          "output_type": "stream",
          "name": "stdout",
          "text": [
            "[ 0.  2.  4.  6.  8. 10.]\n",
            "<class 'numpy.ndarray'>\n",
            "(6,)\n"
          ]
        }
      ]
    },
    {
      "cell_type": "code",
      "metadata": {
        "id": "tjk79SQ27fNv",
        "colab": {
          "base_uri": "https://localhost:8080/"
        },
        "outputId": "3ff3368b-6bb1-4664-933e-8504613780b1"
      },
      "source": [
        "x = np.array([[1,2,3], [4,5,6]])\n",
        "print(x)\n",
        "print(type(x))\n",
        "print(x.shape)"
      ],
      "execution_count": null,
      "outputs": [
        {
          "output_type": "stream",
          "name": "stdout",
          "text": [
            "[[1 2 3]\n",
            " [4 5 6]]\n",
            "<class 'numpy.ndarray'>\n",
            "(2, 3)\n"
          ]
        }
      ]
    },
    {
      "cell_type": "code",
      "metadata": {
        "id": "C1ogg6iZ7yir",
        "colab": {
          "base_uri": "https://localhost:8080/"
        },
        "outputId": "baf27f4e-10a7-40bb-82f4-bf470d8de90c"
      },
      "source": [
        "x = np.array([[[1,2,3], [4,5,6]], [[7,8,9], [10,11,12]]])\n",
        "print(x)\n",
        "print(type(x))\n",
        "print(x.shape)"
      ],
      "execution_count": null,
      "outputs": [
        {
          "output_type": "stream",
          "name": "stdout",
          "text": [
            "[[[ 1  2  3]\n",
            "  [ 4  5  6]]\n",
            "\n",
            " [[ 7  8  9]\n",
            "  [10 11 12]]]\n",
            "<class 'numpy.ndarray'>\n",
            "(2, 2, 3)\n"
          ]
        }
      ]
    },
    {
      "cell_type": "code",
      "metadata": {
        "id": "efgeNHtD8ZlT",
        "colab": {
          "base_uri": "https://localhost:8080/"
        },
        "outputId": "047fb9dd-8c90-4dbf-9f12-35123bed1052"
      },
      "source": [
        "x = np.ones([2, 2, 3])\n",
        "print(x)\n",
        "print(type(x))\n",
        "print(x.shape)"
      ],
      "execution_count": null,
      "outputs": [
        {
          "output_type": "stream",
          "name": "stdout",
          "text": [
            "[[[1. 1. 1.]\n",
            "  [1. 1. 1.]]\n",
            "\n",
            " [[1. 1. 1.]\n",
            "  [1. 1. 1.]]]\n",
            "<class 'numpy.ndarray'>\n",
            "(2, 2, 3)\n"
          ]
        }
      ]
    },
    {
      "cell_type": "code",
      "metadata": {
        "id": "b_F-ccY08zzl",
        "colab": {
          "base_uri": "https://localhost:8080/"
        },
        "outputId": "d56dd759-bbd1-48d5-d208-4a2084fe1cec"
      },
      "source": [
        "x = np.zeros([2, 2, 3])\n",
        "print(x)\n",
        "print(type(x))\n",
        "print(x.shape)\n",
        "x.reshape(3,2,2)"
      ],
      "execution_count": null,
      "outputs": [
        {
          "output_type": "stream",
          "name": "stdout",
          "text": [
            "[[[0. 0. 0.]\n",
            "  [0. 0. 0.]]\n",
            "\n",
            " [[0. 0. 0.]\n",
            "  [0. 0. 0.]]]\n",
            "<class 'numpy.ndarray'>\n",
            "(2, 2, 3)\n"
          ]
        },
        {
          "output_type": "execute_result",
          "data": {
            "text/plain": [
              "array([[[0., 0.],\n",
              "        [0., 0.]],\n",
              "\n",
              "       [[0., 0.],\n",
              "        [0., 0.]],\n",
              "\n",
              "       [[0., 0.],\n",
              "        [0., 0.]]])"
            ]
          },
          "metadata": {},
          "execution_count": 27
        }
      ]
    },
    {
      "cell_type": "markdown",
      "metadata": {
        "id": "0hQuDJ5g9gpE"
      },
      "source": [
        "### create random numbers"
      ]
    },
    {
      "cell_type": "code",
      "source": [
        "np.random.normal(0, 1, [2,3,4])       # normal 정규분포, 0, 1 [2,3,4] -> 평균, 표준편차, dimension의 크기"
      ],
      "metadata": {
        "id": "pCVnElBgan70",
        "outputId": "15a05c44-230b-4600-efb3-f3adcca112fe",
        "colab": {
          "base_uri": "https://localhost:8080/"
        }
      },
      "execution_count": 6,
      "outputs": [
        {
          "output_type": "execute_result",
          "data": {
            "text/plain": [
              "array([[[-0.63139175, -2.24928151,  0.74631499,  1.20127995],\n",
              "        [ 0.62300692, -0.15158828, -0.55193098,  0.24467103],\n",
              "        [ 0.60982193,  1.11489863, -0.60433069, -2.31374104]],\n",
              "\n",
              "       [[-0.27919186, -1.6689158 , -0.9904029 , -0.04056574],\n",
              "        [-1.04167646,  0.23473762, -0.0357287 , -0.06234957],\n",
              "        [ 1.44542678,  0.94308637, -0.33210001,  0.26638734]]])"
            ]
          },
          "metadata": {},
          "execution_count": 6
        }
      ]
    },
    {
      "cell_type": "code",
      "metadata": {
        "id": "QRatmkx79otL"
      },
      "source": [
        "import matplotlib.pyplot as plt"
      ],
      "execution_count": 7,
      "outputs": []
    },
    {
      "cell_type": "code",
      "metadata": {
        "id": "z1oOAB6dShBD",
        "colab": {
          "base_uri": "https://localhost:8080/",
          "height": 810
        },
        "outputId": "356fef60-5e3c-4946-9deb-e579b82ba1e0"
      },
      "source": [
        "x = np.random.normal(0, 1, 100)   # 평균 0, 표춘편차 1, 100개 짜리 벡터\n",
        "print(x)\n",
        "plt.hist(x, bins=10)"
      ],
      "execution_count": 10,
      "outputs": [
        {
          "output_type": "stream",
          "name": "stdout",
          "text": [
            "[-1.41215602e-01  1.78772891e-01  2.42723063e+00  8.99756522e-01\n",
            "  9.58764563e-01  8.32084917e-01  5.74119530e-01 -9.77518377e-01\n",
            "  2.20621023e-01  5.64718915e-01 -8.99348864e-01  1.24442930e+00\n",
            "  9.67350798e-01 -4.24510119e-01 -9.59626597e-01 -6.68846589e-01\n",
            "  1.66834240e+00 -6.85791776e-01 -1.42362642e+00 -6.00402438e-01\n",
            "  1.08741201e+00 -3.61864301e-01 -7.08392508e-01  1.47184004e+00\n",
            " -1.08127490e-01  2.48670320e-01  1.73310189e+00  1.67672488e+00\n",
            " -1.07925488e+00  7.49165267e-02 -5.92840621e-01  1.36019317e+00\n",
            " -7.51500776e-01 -1.18973458e+00 -6.38644945e-01  2.66131246e-01\n",
            " -1.17796120e+00  1.07713751e+00  1.01520622e+00  6.73426819e-01\n",
            "  1.57424405e+00  8.33427494e-01 -6.18550164e-01 -7.17241670e-02\n",
            "  1.27183711e+00 -9.69394166e-01  9.94337541e-01  8.21038033e-01\n",
            " -7.32546800e-03  1.30392173e+00  6.64969812e-01  1.03002430e-01\n",
            "  8.51149562e-01 -2.12335142e+00  8.76979938e-01  6.33325013e-01\n",
            " -1.33174451e+00 -9.39612219e-03  5.00509776e-01  1.49123589e-03\n",
            "  3.67644357e-01  1.42890967e-01 -8.24338324e-01 -8.23114525e-01\n",
            "  7.77121432e-01 -1.78869691e+00  2.67966824e+00 -2.12188685e-01\n",
            " -1.59540408e+00  1.22550641e-01  4.58397259e-01 -7.49868530e-01\n",
            "  1.12319817e+00 -2.35767442e+00  1.01330451e+00 -1.10497579e-01\n",
            " -4.79589666e-01  9.91009374e-01  2.15131867e+00 -1.09895015e+00\n",
            "  1.51143869e+00 -5.66158407e-01 -2.09708301e-02 -1.12265101e-02\n",
            "  1.32569657e-01  9.00367138e-01  9.10278176e-01  1.21626773e+00\n",
            " -4.08153193e-01 -6.36229075e-01  5.62286147e-01 -7.07289376e-01\n",
            " -2.62504488e-01 -1.97208071e+00 -4.57529876e-01 -1.22161267e+00\n",
            " -1.80849676e+00 -5.06650172e-02 -9.48647460e-02  1.21712447e-01]\n"
          ]
        },
        {
          "output_type": "execute_result",
          "data": {
            "text/plain": [
              "(array([ 3.,  4., 10., 19., 19., 11., 20.,  9.,  3.,  2.]),\n",
              " array([-2.35767442, -1.85394015, -1.35020588, -0.84647162, -0.34273735,\n",
              "         0.16099691,  0.66473118,  1.16846545,  1.67219971,  2.17593398,\n",
              "         2.67966824]),\n",
              " <a list of 10 Patch objects>)"
            ]
          },
          "metadata": {},
          "execution_count": 10
        },
        {
          "output_type": "display_data",
          "data": {
            "text/plain": [
              "<Figure size 432x288 with 1 Axes>"
            ],
            "image/png": "[encoded data removed]"
          },
          "metadata": {
            "needs_background": "light"
          }
        }
      ]
    },
    {
      "cell_type": "markdown",
      "metadata": {
        "id": "G0exvwBbShBE"
      },
      "source": [
        "### generate a sine curve"
      ]
    },
    {
      "cell_type": "code",
      "metadata": {
        "id": "HgQmRXzMShBE",
        "colab": {
          "base_uri": "https://localhost:8080/",
          "height": 283
        },
        "outputId": "d86887f0-d672-44fa-90b7-fca0157216b5"
      },
      "source": [
        "plt.figure() # 틀을 잡아주는 함수\n",
        "\n",
        "theta1 = np.linspace(0, 2*np.pi, 100)  #(radian 0~360)\n",
        "s1 = np.sin(theta1)     # sin(radian) -> 사인 그래프, 시험문제 (theta1에 있는 갯수가 몇개 인가 -> 100개), s1에 있는 1d array의 개수가 몇개인가 --> 100개\n",
        "theta2 = np.linspace(0, 2*np.pi, 100) + np.pi/2  #(radian 90~450)\n",
        "s2 = np.sin(theta2)\n",
        "\n",
        "plt.subplot(2, 1, 1) # (rows 가로 2줄, columns 세로 1줄, panel number 첫번째 칸에서 그림을 그릴 것이다), subplot은 figure로 잡힌 틀을 나누는 함수\n",
        "plt.plot(theta1, s1, '.') #(x, y, ) -> plot은 2개의 입력이 무조건 필요한 함수\n",
        "plt.subplot(2, 1, 2) # (rows, columns, panel number)\n",
        "plt.plot(theta2, s2, '.')"
      ],
      "execution_count": 12,
      "outputs": [
        {
          "output_type": "execute_result",
          "data": {
            "text/plain": [
              "[<matplotlib.lines.Line2D at 0x7f7460e24950>]"
            ]
          },
          "metadata": {},
          "execution_count": 12
        },
        {
          "output_type": "display_data",
          "data": {
            "text/plain": [
              "<Figure size 432x288 with 2 Axes>"
            ],
            "image/png": "[encoded data removed]"
          },
          "metadata": {
            "needs_background": "light"
          }
        }
      ]
    },
    {
      "cell_type": "code",
      "metadata": {
        "id": "TuH489v9BvQ7",
        "colab": {
          "base_uri": "https://localhost:8080/"
        },
        "outputId": "d05eeb30-350a-4cb8-fdc1-14f745a4d15f"
      },
      "source": [
        "np.corrcoef(s1,s2)      #correlation coefficient = r, 비례의 정도, -1 <= r <= 1\n",
        "                        # 양의 상관관계가 높을수록 1에 수렴함, 0에 가까워질 수록 관계X, -1에 가까워질 수록 음의 상관관계\n",
        "                        # y축 값들이 s1, s2\n",
        "                        # [1 , x]   x만 보면 됨, 2.~~~ x e-17()=10의 -17승) --> 0에 수렴\n",
        "                        # [x,  1]"
      ],
      "execution_count": 15,
      "outputs": [
        {
          "output_type": "execute_result",
          "data": {
            "text/plain": [
              "array([[1.00000000e+00, 2.41915449e-17],\n",
              "       [2.41915449e-17, 1.00000000e+00]])"
            ]
          },
          "metadata": {},
          "execution_count": 15
        }
      ]
    }
  ]
}