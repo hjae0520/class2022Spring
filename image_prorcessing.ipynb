{
  "nbformat": 4,
  "nbformat_minor": 0,
  "metadata": {
    "colab": {
      "name": "image_prorcessing.ipynb",
      "provenance": [],
      "include_colab_link": true
    },
    "kernelspec": {
      "name": "python3",
      "display_name": "Python 3"
    },
    "language_info": {
      "name": "python"
    }
  },
  "cells": [
    {
      "cell_type": "markdown",
      "metadata": {
        "id": "view-in-github",
        "colab_type": "text"
      },
      "source": [
        "<a href=\"https://colab.research.google.com/github/hjae0520/class2022Spring/blob/main/image_prorcessing.ipynb\" target=\"_parent\"><img src=\"https://colab.research.google.com/assets/colab-badge.svg\" alt=\"Open In Colab\"/></a>"
      ]
    },
    {
      "cell_type": "markdown",
      "source": [
        "# Image processing\n",
        "https://www.w3schools.com/html/html_colors_rgb.asp"
      ],
      "metadata": {
        "id": "o7Kt9mdsl64L"
      }
    },
    {
      "cell_type": "markdown",
      "source": [
        "RGB: 0~255 (256개), 빛의 삼원색 -> 255면 흰색, 0이면 검정\n",
        "cv2는 BGR 순서"
      ],
      "metadata": {
        "id": "iOdg2XAwnpLM"
      }
    },
    {
      "cell_type": "code",
      "source": [
        "import cv2 # openCV (computer vision) package\n",
        "from google.colab.patches import cv2_imshow # substitution for cv2.imshow\n",
        "import matplotlib.pylab as plt"
      ],
      "metadata": {
        "id": "73mp63gvtmDQ"
      },
      "execution_count": 1,
      "outputs": []
    },
    {
      "cell_type": "markdown",
      "source": [
        "OpenCV imread, imwrite and imshow indeed all work with the BGR order, so there is no need to change the order when you read an image with cv2.imread and then want to show it with cv2.imshow. While BGR is used consistently throughout OpenCV, most other image processing libraries use the RGB ordering. If you want to use matplotlib's imshow but read the image with OpenCV, you would need to convert from BGR to RGB."
      ],
      "metadata": {
        "id": "HGJBDsHvmkIf"
      }
    },
    {
      "cell_type": "markdown",
      "source": [
        "## \bdownload/save an image from Urls"
      ],
      "metadata": {
        "id": "kmo_iDcgtPoq"
      }
    },
    {
      "cell_type": "code",
      "source": [
        "import os\n",
        "url = \"https://raw.githubusercontent.com/hsnam95/class2022Spring/main/tiger.jpg\"\n",
        "os.system(\"curl \" + url + \" > test.jpg\")          # > test.jpg -> url에 있는 파일을 이름을 바꿔서 내 계정 컴퓨터로 저장, curl 뒤에 스페이스 있음, > 앞에 스페이스 있음"
      ],
      "metadata": {
        "id": "2tNf0hFNQayc",
        "outputId": "0d0b4930-b71a-49f0-d0b4-e1da53523460",
        "colab": {
          "base_uri": "https://localhost:8080/"
        }
      },
      "execution_count": 2,
      "outputs": [
        {
          "output_type": "execute_result",
          "data": {
            "text/plain": [
              "0"
            ]
          },
          "metadata": {},
          "execution_count": 2
        }
      ]
    },
    {
      "cell_type": "markdown",
      "source": [
        "## display image"
      ],
      "metadata": {
        "id": "lAm9_mj1pvBU"
      }
    },
    {
      "cell_type": "code",
      "source": [
        "image_bgr = cv2.imread('test.jpg')      #imread (image read): 사진 파일의 색들을 숫자로 바꾸는 함수, 3d array의 숫자들\n",
        "cv2_imshow(image_bgr)                   #imshow: 이 숫자들을 image로 보여줌"
      ],
      "metadata": {
        "id": "EnYTzgoaREFk"
      },
      "execution_count": null,
      "outputs": []
    },
    {
      "cell_type": "markdown",
      "source": [
        "## display B, G, R channel"
      ],
      "metadata": {
        "id": "vIGysdNa1fuB"
      }
    },
    {
      "cell_type": "code",
      "source": [
        "image_bgr                     #    B    G    R -> 3\n",
        "                              # [[109, 123, 141],                 (627, 1200, 3) -> 역순으로 괄호 하나씩을 의미\n",
        "                              #  [108, 122, 140],                   2번째 괄호 안에 있는 [  ]가 1200개\n",
        "                              #  [105, 120, 136],                   3번째 괄호 안에 있는 [[]]가 627개"
      ],
      "metadata": {
        "id": "5TApnEKHyNV1"
      },
      "execution_count": null,
      "outputs": []
    },
    {
      "cell_type": "code",
      "source": [
        "print(type(image_bgr)); print(image_bgr.shape)      # nd_array.shape -> nd array가 어떻게 구성되어 있는지 보여준다; 3d array\n",
        "                                                    # 시험문제: image_bgr에 있는 총 숫자는 몇개인가 = 627 x 1200 x 3, 3이 B, G R을 합쳐서 나온 것\n",
        "                                                    # +) red를 표현하는 숫자는 몇개인가 = 627 x 1200"
      ],
      "metadata": {
        "id": "aRHotP0CyZJQ",
        "outputId": "081da8fd-5b0a-44d5-de51-25c8c77f30d2",
        "colab": {
          "base_uri": "https://localhost:8080/"
        }
      },
      "execution_count": 5,
      "outputs": [
        {
          "output_type": "stream",
          "name": "stdout",
          "text": [
            "<class 'numpy.ndarray'>\n",
            "(627, 1200, 3)\n"
          ]
        }
      ]
    },
    {
      "cell_type": "code",
      "source": [
        "image_b = image_bgr.copy()              # copy()를 붙이지 않으면 원본도 변함, 특히 nd array에서는 필요함\n",
        "image_b[:,:,[1,2]] = 0                  # [:, :, 0은 첫번째 열 = B, 1은 두번째 열 = G, 2는 세번째 열 = R], [1, 2] = 두, 세번째 (G, R) 모두 0으로 변환\n",
        "cv2_imshow(image_b)                     # B만 남은 호랑이"
      ],
      "metadata": {
        "id": "VTv5DIpVyjSo"
      },
      "execution_count": null,
      "outputs": []
    },
    {
      "cell_type": "code",
      "source": [
        "image_g = image_bgr.copy()\n",
        "image_g[:,:,[0,2]] = 0\n",
        "cv2_imshow(image_g)"
      ],
      "metadata": {
        "id": "1AuJtDQy0RqZ"
      },
      "execution_count": null,
      "outputs": []
    },
    {
      "cell_type": "code",
      "source": [
        "image_r = image_bgr.copy()\n",
        "image_r[:,:,[0,1]] = 0\n",
        "cv2_imshow(image_r)"
      ],
      "metadata": {
        "id": "0RYN4ocz0SbD"
      },
      "execution_count": null,
      "outputs": []
    },
    {
      "cell_type": "code",
      "source": [
        "image_inverse = 255 - image_bgr         # 이때, 255는 627x1200x3 행렬을 모두 255로 채운 것 -> 반전\n",
        "cv2_imshow(image_inverse)"
      ],
      "metadata": {
        "id": "hdjjO-nr1py0"
      },
      "execution_count": null,
      "outputs": []
    },
    {
      "cell_type": "markdown",
      "source": [
        "##histograms"
      ],
      "metadata": {
        "id": "8ctFtvBotyzh"
      }
    },
    {
      "cell_type": "markdown",
      "source": [
        "calcHist: 각 bin에 어느정도의 숫자가 있는지 계산해서 histogram화 해주는 함수\n"
      ],
      "metadata": {
        "id": "h78_42Zfvdw7"
      }
    },
    {
      "cell_type": "code",
      "source": [
        "# Display the histogram of R, G, B channel\n",
        "color = ['b','g','r']\n",
        "for i in range(len(color)):\n",
        "    histr = cv2.calcHist([image_bgr],[i],None,[255],[0,255]) # ([image], [nChannel = (0 or 1 or 2)], mask, [histSize], [range]) -> 사용하는 방법\n",
        "    plt.plot(histr, color = color[i])\n",
        "    plt.xlim([0,255])"
      ],
      "metadata": {
        "id": "ccZxy6yjbRbs"
      },
      "execution_count": null,
      "outputs": []
    },
    {
      "cell_type": "code",
      "source": [
        "# Display the histogram of all the pixels in the color image\n",
        "plt.hist(image_bgr.ravel(), bins = 256, range = [0,256]) \n",
        "plt.show()"
      ],
      "metadata": {
        "id": "lFoQ_iOll1SV"
      },
      "execution_count": null,
      "outputs": []
    },
    {
      "cell_type": "markdown",
      "source": [
        "## gray transformation"
      ],
      "metadata": {
        "id": "n80B5Qs9pY1Z"
      }
    },
    {
      "cell_type": "code",
      "source": [
        "image_gray = cv2.cvtColor(image_bgr, cv2.COLOR_BGR2GRAY)\n",
        "cv2_imshow(image_gray)"
      ],
      "metadata": {
        "id": "DJibxSE4lLYA"
      },
      "execution_count": null,
      "outputs": []
    }
  ]
}