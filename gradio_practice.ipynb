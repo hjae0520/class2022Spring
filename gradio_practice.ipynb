{
  "nbformat": 4,
  "nbformat_minor": 0,
  "metadata": {
    "colab": {
      "name": "gradio_practice.ipynb",
      "provenance": [],
      "include_colab_link": true
    },
    "kernelspec": {
      "name": "python3",
      "display_name": "Python 3"
    },
    "language_info": {
      "name": "python"
    }
  },
  "cells": [
    {
      "cell_type": "markdown",
      "metadata": {
        "id": "view-in-github",
        "colab_type": "text"
      },
      "source": [
        "<a href=\"https://colab.research.google.com/github/hjae0520/class2022Spring/blob/main/gradio_practice.ipynb\" target=\"_parent\"><img src=\"https://colab.research.google.com/assets/colab-badge.svg\" alt=\"Open In Colab\"/></a>"
      ]
    },
    {
      "cell_type": "markdown",
      "source": [
        "Gradio: 입출력을 데모로 만드는 것\n",
        "입출력, 즉 함수가 존재를 전제로 한다\n"
      ],
      "metadata": {
        "id": "B-KQ3BKCkKJa"
      }
    },
    {
      "cell_type": "code",
      "execution_count": 1,
      "metadata": {
        "id": "ZhrL6xVSQ9bS"
      },
      "outputs": [],
      "source": [
        "def sum(a, b):\n",
        "\n",
        "  c = int(a + b) # int를 붙인 건 float로 바뀐 숫자를 정수로 다시 바꾸기 위함\n",
        "  c = '정답은 ' + str(c) + '입니다'\n",
        "  return c"
      ]
    },
    {
      "cell_type": "code",
      "source": [
        "sum(2,3)"
      ],
      "metadata": {
        "id": "1HIgbjYWSBNX",
        "outputId": "a0ff2c86-0e30-424a-af33-2b2d67261acc",
        "colab": {
          "base_uri": "https://localhost:8080/",
          "height": 35
        }
      },
      "execution_count": 2,
      "outputs": [
        {
          "output_type": "execute_result",
          "data": {
            "text/plain": [
              "'정답은 5입니다'"
            ],
            "application/vnd.google.colaboratory.intrinsic+json": {
              "type": "string"
            }
          },
          "metadata": {},
          "execution_count": 2
        }
      ]
    },
    {
      "cell_type": "code",
      "source": [
        "!pip install gradio # gradiao 인스톨 먼저 해야 함(!pip install)"
      ],
      "metadata": {
        "id": "sfMdWugISD5M"
      },
      "execution_count": null,
      "outputs": []
    },
    {
      "cell_type": "code",
      "source": [
        "import gradio as gr\n",
        "# gradio 사용법: gr.interface [함수명, 입력, 출력] list로\n",
        "# 함수와 입출력의 개수와 타입을 맞춰야 함, 함수의 출력값을 string으로 설정한 이유(출력에는 number 항목이 없음)\n",
        "# 입출력의 항목은 gradio에 있음\n"
      ],
      "metadata": {
        "id": "buyjOWYWS41q"
      },
      "execution_count": 4,
      "outputs": []
    },
    {
      "cell_type": "code",
      "source": [
        "iface = gr.Interface(sum, inputs = [\"number\", \"number\"], outputs = [\"text\"]) \n",
        "iface.launch() #launch를 해야 웹 데모가 만들어짐, public url이 독립된 창"
      ],
      "metadata": {
        "id": "vNlrBEbSS7ge"
      },
      "execution_count": null,
      "outputs": []
    },
    {
      "cell_type": "code",
      "source": [
        "iface = gr.Interface(sum, [gr.inputs.Number(label='input1'), gr.inputs.Number(label='input2')], gr.outputs.Textbox(label='answer')) #gr.input.Number(defalut=초기 숫자, label은 각각의 이름)\n",
        "iface.launch()                                                                                                                      #input자리에 [] 표시 잊지 말아야 함"
      ],
      "metadata": {
        "id": "9C_eEMRCWExA"
      },
      "execution_count": null,
      "outputs": []
    }
  ]
}