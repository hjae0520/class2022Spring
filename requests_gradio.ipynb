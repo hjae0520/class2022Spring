{
  "nbformat": 4,
  "nbformat_minor": 0,
  "metadata": {
    "colab": {
      "name": "requests_gradio.ipynb",
      "provenance": [],
      "include_colab_link": true
    },
    "kernelspec": {
      "name": "python3",
      "display_name": "Python 3"
    },
    "language_info": {
      "name": "python"
    }
  },
  "cells": [
    {
      "cell_type": "markdown",
      "metadata": {
        "id": "view-in-github",
        "colab_type": "text"
      },
      "source": [
        "<a href=\"https://colab.research.google.com/github/hjae0520/class2022Spring/blob/main/requests_gradio.ipynb\" target=\"_parent\"><img src=\"https://colab.research.google.com/assets/colab-badge.svg\" alt=\"Open In Colab\"/></a>"
      ]
    },
    {
      "cell_type": "markdown",
      "source": [
        "API: 개발자의 입장에서 특정 프로그램을 내 프로그램으로 가져와서 쓸 수 있게 해주는 것, 프로그래밍의 부품\n",
        "ex. 파파고를 내 프로그램으로 가져와서 쓸 때, 자동번역 api 등등\n",
        "API를 가져오는 것이 requests\n",
        "api 유형은 rest를 사용\n",
        "데이터포맷은 크게 jason or xml을 활용\n"
      ],
      "metadata": {
        "id": "yvKlK1aqzVLP"
      }
    },
    {
      "cell_type": "code",
      "source": [
        "!pip install gradio\n",
        "import gradio as gr\n",
        "import requests\n",
        "import pandas as pd"
      ],
      "metadata": {
        "id": "8eZHGJhmqd9a"
      },
      "execution_count": null,
      "outputs": []
    },
    {
      "cell_type": "code",
      "source": [
        "# requests.get(요청메세지 = 주소)"
      ],
      "metadata": {
        "id": "-IrBUpJ64oQo"
      },
      "execution_count": null,
      "outputs": []
    },
    {
      "cell_type": "code",
      "source": [
        "URL = ('http://apis.data.go.kr/B552584/ArpltnStatsSvc/'    # 메뉴얼 상 서비스 URL\n",
        "      'getCtprvnMesureSidoLIst?'                          # 사용하려는 상세기능명 + ?\n",
        "      'sidoName=서울'                                     # 요청 메세지 명세(세부 항목) ex.시도 명 = ~~ & 검색 시간 = ~~  & 항수 = ~~~ 등 메뉴얼에 다 나와 있음\n",
        "      '&searchCondition=hour'\n",
        "      '&pageNo=1'\n",
        "      '&numOfRows=100'\n",
        "      '&returnType=json'                                  # returntype - 중요\n",
        "      '&serviceKey=miH%2BZXg85lQy4%2FkmhffvygXDIFiTwisriSLxtyECSzw6hxTVK7yI8QKIOc7mP7LEqCnhBGuj6iW1gZW65dum7A%3D%3D')       # 서비스 키, 여기까지가 api 사용끝\n",
        "response = requests.get(URL)"
      ],
      "metadata": {
        "id": "lHHEwqpyJF7r"
      },
      "execution_count": 2,
      "outputs": []
    },
    {
      "cell_type": "code",
      "source": [
        "response # 200 --> response code, 200은 잘 처리가 되었다는 뜻"
      ],
      "metadata": {
        "colab": {
          "base_uri": "https://localhost:8080/"
        },
        "id": "yPvmYEOq6TBQ",
        "outputId": "2b47779d-5c1e-486d-a366-022d4c9ae32a"
      },
      "execution_count": 3,
      "outputs": [
        {
          "output_type": "execute_result",
          "data": {
            "text/plain": [
              "<Response [200]>"
            ]
          },
          "metadata": {},
          "execution_count": 3
        }
      ]
    },
    {
      "cell_type": "markdown",
      "source": [
        "#### http://jsonviewer.stack.hu/ (copy json here to view json)"
      ],
      "metadata": {
        "id": "faIENRyFfnY1"
      }
    },
    {
      "cell_type": "code",
      "source": [
        "r = response.json() # response에 있는 내용 확인 방법, r 출력값을 복사해서 위 사이트에 붙여넣기 하면 Jason의 구조를 확인할 수 있음 Jason -> response -> body -> items -> 0~24...\n",
        "r"
      ],
      "metadata": {
        "id": "JcLKwg0foR9p"
      },
      "execution_count": null,
      "outputs": []
    },
    {
      "cell_type": "code",
      "source": [
        "type (r) # dict -> {key : values} -> z {key} = value 활용"
      ],
      "metadata": {
        "colab": {
          "base_uri": "https://localhost:8080/"
        },
        "id": "-7080Ybt7wjc",
        "outputId": "4b31c230-3199-47bd-952e-f392de846d39"
      },
      "execution_count": 6,
      "outputs": [
        {
          "output_type": "execute_result",
          "data": {
            "text/plain": [
              "dict"
            ]
          },
          "metadata": {},
          "execution_count": 6
        }
      ]
    },
    {
      "cell_type": "code",
      "source": [
        "items = r['response']['body']['items'] # list로 되어 있는데 그 안을 시, 구별 dict들이 채우고 있음, items [0]: 맨 처음인 강남구 dict가 출력\n",
        "items[0]                               "
      ],
      "metadata": {
        "colab": {
          "base_uri": "https://localhost:8080/"
        },
        "id": "4dnnjo2V8aaA",
        "outputId": "15b2b116-d31b-4089-f04c-f14e50753a26"
      },
      "execution_count": 8,
      "outputs": [
        {
          "output_type": "execute_result",
          "data": {
            "text/plain": [
              "{'cityName': '강남구',\n",
              " 'cityNameEng': 'Gangnam-gu',\n",
              " 'coValue': '0.3',\n",
              " 'dataGubun': '',\n",
              " 'dataTime': '2022-03-23 17:00',\n",
              " 'districtCode': '02',\n",
              " 'districtNumSeq': '001',\n",
              " 'itemCode': '',\n",
              " 'khaiValue': '',\n",
              " 'no2Value': '0.023',\n",
              " 'numOfRows': '10',\n",
              " 'o3Value': '0.036',\n",
              " 'pageNo': '1',\n",
              " 'pm10Value': '32',\n",
              " 'pm25Value': '16',\n",
              " 'resultCode': '',\n",
              " 'resultMsg': '',\n",
              " 'returnType': 'json',\n",
              " 'searchCondition': '',\n",
              " 'serviceKey': '',\n",
              " 'sidoName': '서울',\n",
              " 'so2Value': '0.003',\n",
              " 'totalCount': ''}"
            ]
          },
          "metadata": {},
          "execution_count": 8
        }
      ]
    },
    {
      "cell_type": "code",
      "source": [
        "items = r['response']['body']['items'] # response 중에 body 중에 items을 items이라는 변수로 받겠다, 이걸 pandas로 data frame을 만드는 것이 목표\n",
        "\n",
        "cityName = [item['cityName'] for item in items]           # list comprehension을 활용, in items (items 중에서), for item (item이라는 변수를 하나씩 받을 건데), 그것들에 cityName을 붙일 거다\n",
        "pm10Value = [item['pm10Value'] for item in items]         # \n",
        "pm25Value = [item['pm25Value'] for item in items]\n",
        "so2Value = [item['so2Value'] for item in items]\n",
        "coValue = [item['coValue'] for item in items]\n",
        "o3Value = [item['o3Value'] for item in items]\n",
        "no2Value = [item['no2Value'] for item in items]\n",
        "\n",
        "cityName = pd.Series(cityName)     # key값을 데이터 프레임의 x축 값으로 대입,하나의 pd.series는 한 열의 내용을 채울 수 있음\n",
        "pm10Value = pd.Series(pm10Value)   \n",
        "pm25Value = pd.Series(pm25Value)\n",
        "so2Value = pd.Series(so2Value)\n",
        "coValue = pd.Series(coValue)\n",
        "o3Value = pd.Series(o3Value)\n",
        "no2Value = pd.Series(no2Value)\n",
        "\n",
        "df = pd.DataFrame({ 'cityName': cityName, 'pm10Value': pm10Value, 'pm25Value': pm25Value, 'so2Value': so2Value, 'coValue': coValue, 'o3Value': o3Value, 'no2Value': no2Value})\n",
        "# '열의 x축' : 내용값"
      ],
      "metadata": {
        "id": "W8lA0-IzE55W"
      },
      "execution_count": 10,
      "outputs": []
    },
    {
      "cell_type": "code",
      "source": [
        "df"
      ],
      "metadata": {
        "id": "W3l0zTmt-4bv",
        "outputId": "e16e2490-5a20-44c1-997d-03f4511718b5",
        "colab": {
          "base_uri": "https://localhost:8080/",
          "height": 833
        }
      },
      "execution_count": 11,
      "outputs": [
        {
          "output_type": "execute_result",
          "data": {
            "text/plain": [
              "   cityName pm10Value pm25Value so2Value coValue o3Value no2Value\n",
              "0       강남구        32        16    0.003     0.3   0.036    0.023\n",
              "1       강동구        35        20    0.003     0.3   0.031    0.023\n",
              "2       강북구        32        18    0.002     0.3   0.045    0.012\n",
              "3       강서구        39        18    0.005     0.4   0.041    0.021\n",
              "4       관악구        30        16    0.003     0.4   0.042    0.020\n",
              "5       광진구        35        20    0.004     0.4   0.038    0.023\n",
              "6       구로구        32        15    0.003     0.3   0.041    0.018\n",
              "7       금천구        28        15    0.004     0.3   0.042    0.021\n",
              "8       노원구        29        22    0.003     0.4   0.044    0.020\n",
              "9       도봉구        30        14    0.004     0.3   0.034    0.024\n",
              "10     동대문구        32        17    0.003     0.4   0.040    0.024\n",
              "11      동작구        33        17    0.003     0.3   0.044    0.018\n",
              "12      마포구        27        13    0.003     0.3   0.035    0.025\n",
              "13     서대문구        36        17    0.003     0.4   0.043    0.019\n",
              "14      서초구        35        16    0.003     0.4   0.037    0.022\n",
              "15      성동구        38        19    0.002     0.3   0.025    0.017\n",
              "16      성북구        36        20    0.003     0.4   0.038    0.018\n",
              "17      송파구        42        27    0.004     0.4   0.036    0.024\n",
              "18      양천구        35        21    0.003     0.4   0.038    0.020\n",
              "19     영등포구                                                      \n",
              "20      용산구                                                      \n",
              "21      은평구        43        30    0.003     0.3   0.042    0.017\n",
              "22      종로구        33        19    0.004     0.4   0.039    0.023\n",
              "23       중구        26        19    0.004     0.3   0.041    0.025\n",
              "24      중랑구        33        16    0.003     0.4   0.038    0.024"
            ],
            "text/html": [
              "\n",
              "  <div id=\"df-e79508b7-030b-440a-9b00-459882609098\">\n",
              "    <div class=\"colab-df-container\">\n",
              "      <div>\n",
              "<style scoped>\n",
              "    .dataframe tbody tr th:only-of-type {\n",
              "        vertical-align: middle;\n",
              "    }\n",
              "\n",
              "    .dataframe tbody tr th {\n",
              "        vertical-align: top;\n",
              "    }\n",
              "\n",
              "    .dataframe thead th {\n",
              "        text-align: right;\n",
              "    }\n",
              "</style>\n",
              "<table border=\"1\" class=\"dataframe\">\n",
              "  <thead>\n",
              "    <tr style=\"text-align: right;\">\n",
              "      <th></th>\n",
              "      <th>cityName</th>\n",
              "      <th>pm10Value</th>\n",
              "      <th>pm25Value</th>\n",
              "      <th>so2Value</th>\n",
              "      <th>coValue</th>\n",
              "      <th>o3Value</th>\n",
              "      <th>no2Value</th>\n",
              "    </tr>\n",
              "  </thead>\n",
              "  <tbody>\n",
              "    <tr>\n",
              "      <th>0</th>\n",
              "      <td>강남구</td>\n",
              "      <td>32</td>\n",
              "      <td>16</td>\n",
              "      <td>0.003</td>\n",
              "      <td>0.3</td>\n",
              "      <td>0.036</td>\n",
              "      <td>0.023</td>\n",
              "    </tr>\n",
              "    <tr>\n",
              "      <th>1</th>\n",
              "      <td>강동구</td>\n",
              "      <td>35</td>\n",
              "      <td>20</td>\n",
              "      <td>0.003</td>\n",
              "      <td>0.3</td>\n",
              "      <td>0.031</td>\n",
              "      <td>0.023</td>\n",
              "    </tr>\n",
              "    <tr>\n",
              "      <th>2</th>\n",
              "      <td>강북구</td>\n",
              "      <td>32</td>\n",
              "      <td>18</td>\n",
              "      <td>0.002</td>\n",
              "      <td>0.3</td>\n",
              "      <td>0.045</td>\n",
              "      <td>0.012</td>\n",
              "    </tr>\n",
              "    <tr>\n",
              "      <th>3</th>\n",
              "      <td>강서구</td>\n",
              "      <td>39</td>\n",
              "      <td>18</td>\n",
              "      <td>0.005</td>\n",
              "      <td>0.4</td>\n",
              "      <td>0.041</td>\n",
              "      <td>0.021</td>\n",
              "    </tr>\n",
              "    <tr>\n",
              "      <th>4</th>\n",
              "      <td>관악구</td>\n",
              "      <td>30</td>\n",
              "      <td>16</td>\n",
              "      <td>0.003</td>\n",
              "      <td>0.4</td>\n",
              "      <td>0.042</td>\n",
              "      <td>0.020</td>\n",
              "    </tr>\n",
              "    <tr>\n",
              "      <th>5</th>\n",
              "      <td>광진구</td>\n",
              "      <td>35</td>\n",
              "      <td>20</td>\n",
              "      <td>0.004</td>\n",
              "      <td>0.4</td>\n",
              "      <td>0.038</td>\n",
              "      <td>0.023</td>\n",
              "    </tr>\n",
              "    <tr>\n",
              "      <th>6</th>\n",
              "      <td>구로구</td>\n",
              "      <td>32</td>\n",
              "      <td>15</td>\n",
              "      <td>0.003</td>\n",
              "      <td>0.3</td>\n",
              "      <td>0.041</td>\n",
              "      <td>0.018</td>\n",
              "    </tr>\n",
              "    <tr>\n",
              "      <th>7</th>\n",
              "      <td>금천구</td>\n",
              "      <td>28</td>\n",
              "      <td>15</td>\n",
              "      <td>0.004</td>\n",
              "      <td>0.3</td>\n",
              "      <td>0.042</td>\n",
              "      <td>0.021</td>\n",
              "    </tr>\n",
              "    <tr>\n",
              "      <th>8</th>\n",
              "      <td>노원구</td>\n",
              "      <td>29</td>\n",
              "      <td>22</td>\n",
              "      <td>0.003</td>\n",
              "      <td>0.4</td>\n",
              "      <td>0.044</td>\n",
              "      <td>0.020</td>\n",
              "    </tr>\n",
              "    <tr>\n",
              "      <th>9</th>\n",
              "      <td>도봉구</td>\n",
              "      <td>30</td>\n",
              "      <td>14</td>\n",
              "      <td>0.004</td>\n",
              "      <td>0.3</td>\n",
              "      <td>0.034</td>\n",
              "      <td>0.024</td>\n",
              "    </tr>\n",
              "    <tr>\n",
              "      <th>10</th>\n",
              "      <td>동대문구</td>\n",
              "      <td>32</td>\n",
              "      <td>17</td>\n",
              "      <td>0.003</td>\n",
              "      <td>0.4</td>\n",
              "      <td>0.040</td>\n",
              "      <td>0.024</td>\n",
              "    </tr>\n",
              "    <tr>\n",
              "      <th>11</th>\n",
              "      <td>동작구</td>\n",
              "      <td>33</td>\n",
              "      <td>17</td>\n",
              "      <td>0.003</td>\n",
              "      <td>0.3</td>\n",
              "      <td>0.044</td>\n",
              "      <td>0.018</td>\n",
              "    </tr>\n",
              "    <tr>\n",
              "      <th>12</th>\n",
              "      <td>마포구</td>\n",
              "      <td>27</td>\n",
              "      <td>13</td>\n",
              "      <td>0.003</td>\n",
              "      <td>0.3</td>\n",
              "      <td>0.035</td>\n",
              "      <td>0.025</td>\n",
              "    </tr>\n",
              "    <tr>\n",
              "      <th>13</th>\n",
              "      <td>서대문구</td>\n",
              "      <td>36</td>\n",
              "      <td>17</td>\n",
              "      <td>0.003</td>\n",
              "      <td>0.4</td>\n",
              "      <td>0.043</td>\n",
              "      <td>0.019</td>\n",
              "    </tr>\n",
              "    <tr>\n",
              "      <th>14</th>\n",
              "      <td>서초구</td>\n",
              "      <td>35</td>\n",
              "      <td>16</td>\n",
              "      <td>0.003</td>\n",
              "      <td>0.4</td>\n",
              "      <td>0.037</td>\n",
              "      <td>0.022</td>\n",
              "    </tr>\n",
              "    <tr>\n",
              "      <th>15</th>\n",
              "      <td>성동구</td>\n",
              "      <td>38</td>\n",
              "      <td>19</td>\n",
              "      <td>0.002</td>\n",
              "      <td>0.3</td>\n",
              "      <td>0.025</td>\n",
              "      <td>0.017</td>\n",
              "    </tr>\n",
              "    <tr>\n",
              "      <th>16</th>\n",
              "      <td>성북구</td>\n",
              "      <td>36</td>\n",
              "      <td>20</td>\n",
              "      <td>0.003</td>\n",
              "      <td>0.4</td>\n",
              "      <td>0.038</td>\n",
              "      <td>0.018</td>\n",
              "    </tr>\n",
              "    <tr>\n",
              "      <th>17</th>\n",
              "      <td>송파구</td>\n",
              "      <td>42</td>\n",
              "      <td>27</td>\n",
              "      <td>0.004</td>\n",
              "      <td>0.4</td>\n",
              "      <td>0.036</td>\n",
              "      <td>0.024</td>\n",
              "    </tr>\n",
              "    <tr>\n",
              "      <th>18</th>\n",
              "      <td>양천구</td>\n",
              "      <td>35</td>\n",
              "      <td>21</td>\n",
              "      <td>0.003</td>\n",
              "      <td>0.4</td>\n",
              "      <td>0.038</td>\n",
              "      <td>0.020</td>\n",
              "    </tr>\n",
              "    <tr>\n",
              "      <th>19</th>\n",
              "      <td>영등포구</td>\n",
              "      <td></td>\n",
              "      <td></td>\n",
              "      <td></td>\n",
              "      <td></td>\n",
              "      <td></td>\n",
              "      <td></td>\n",
              "    </tr>\n",
              "    <tr>\n",
              "      <th>20</th>\n",
              "      <td>용산구</td>\n",
              "      <td></td>\n",
              "      <td></td>\n",
              "      <td></td>\n",
              "      <td></td>\n",
              "      <td></td>\n",
              "      <td></td>\n",
              "    </tr>\n",
              "    <tr>\n",
              "      <th>21</th>\n",
              "      <td>은평구</td>\n",
              "      <td>43</td>\n",
              "      <td>30</td>\n",
              "      <td>0.003</td>\n",
              "      <td>0.3</td>\n",
              "      <td>0.042</td>\n",
              "      <td>0.017</td>\n",
              "    </tr>\n",
              "    <tr>\n",
              "      <th>22</th>\n",
              "      <td>종로구</td>\n",
              "      <td>33</td>\n",
              "      <td>19</td>\n",
              "      <td>0.004</td>\n",
              "      <td>0.4</td>\n",
              "      <td>0.039</td>\n",
              "      <td>0.023</td>\n",
              "    </tr>\n",
              "    <tr>\n",
              "      <th>23</th>\n",
              "      <td>중구</td>\n",
              "      <td>26</td>\n",
              "      <td>19</td>\n",
              "      <td>0.004</td>\n",
              "      <td>0.3</td>\n",
              "      <td>0.041</td>\n",
              "      <td>0.025</td>\n",
              "    </tr>\n",
              "    <tr>\n",
              "      <th>24</th>\n",
              "      <td>중랑구</td>\n",
              "      <td>33</td>\n",
              "      <td>16</td>\n",
              "      <td>0.003</td>\n",
              "      <td>0.4</td>\n",
              "      <td>0.038</td>\n",
              "      <td>0.024</td>\n",
              "    </tr>\n",
              "  </tbody>\n",
              "</table>\n",
              "</div>\n",
              "      <button class=\"colab-df-convert\" onclick=\"convertToInteractive('df-e79508b7-030b-440a-9b00-459882609098')\"\n",
              "              title=\"Convert this dataframe to an interactive table.\"\n",
              "              style=\"display:none;\">\n",
              "        \n",
              "  <svg xmlns=\"http://www.w3.org/2000/svg\" height=\"24px\"viewBox=\"0 0 24 24\"\n",
              "       width=\"24px\">\n",
              "    <path d=\"M0 0h24v24H0V0z\" fill=\"none\"/>\n",
              "    <path d=\"M18.56 5.44l.94 2.06.94-2.06 2.06-.94-2.06-.94-.94-2.06-.94 2.06-2.06.94zm-11 1L8.5 8.5l.94-2.06 2.06-.94-2.06-.94L8.5 2.5l-.94 2.06-2.06.94zm10 10l.94 2.06.94-2.06 2.06-.94-2.06-.94-.94-2.06-.94 2.06-2.06.94z\"/><path d=\"M17.41 7.96l-1.37-1.37c-.4-.4-.92-.59-1.43-.59-.52 0-1.04.2-1.43.59L10.3 9.45l-7.72 7.72c-.78.78-.78 2.05 0 2.83L4 21.41c.39.39.9.59 1.41.59.51 0 1.02-.2 1.41-.59l7.78-7.78 2.81-2.81c.8-.78.8-2.07 0-2.86zM5.41 20L4 18.59l7.72-7.72 1.47 1.35L5.41 20z\"/>\n",
              "  </svg>\n",
              "      </button>\n",
              "      \n",
              "  <style>\n",
              "    .colab-df-container {\n",
              "      display:flex;\n",
              "      flex-wrap:wrap;\n",
              "      gap: 12px;\n",
              "    }\n",
              "\n",
              "    .colab-df-convert {\n",
              "      background-color: #E8F0FE;\n",
              "      border: none;\n",
              "      border-radius: 50%;\n",
              "      cursor: pointer;\n",
              "      display: none;\n",
              "      fill: #1967D2;\n",
              "      height: 32px;\n",
              "      padding: 0 0 0 0;\n",
              "      width: 32px;\n",
              "    }\n",
              "\n",
              "    .colab-df-convert:hover {\n",
              "      background-color: #E2EBFA;\n",
              "      box-shadow: 0px 1px 2px rgba(60, 64, 67, 0.3), 0px 1px 3px 1px rgba(60, 64, 67, 0.15);\n",
              "      fill: #174EA6;\n",
              "    }\n",
              "\n",
              "    [theme=dark] .colab-df-convert {\n",
              "      background-color: #3B4455;\n",
              "      fill: #D2E3FC;\n",
              "    }\n",
              "\n",
              "    [theme=dark] .colab-df-convert:hover {\n",
              "      background-color: #434B5C;\n",
              "      box-shadow: 0px 1px 3px 1px rgba(0, 0, 0, 0.15);\n",
              "      filter: drop-shadow(0px 1px 2px rgba(0, 0, 0, 0.3));\n",
              "      fill: #FFFFFF;\n",
              "    }\n",
              "  </style>\n",
              "\n",
              "      <script>\n",
              "        const buttonEl =\n",
              "          document.querySelector('#df-e79508b7-030b-440a-9b00-459882609098 button.colab-df-convert');\n",
              "        buttonEl.style.display =\n",
              "          google.colab.kernel.accessAllowed ? 'block' : 'none';\n",
              "\n",
              "        async function convertToInteractive(key) {\n",
              "          const element = document.querySelector('#df-e79508b7-030b-440a-9b00-459882609098');\n",
              "          const dataTable =\n",
              "            await google.colab.kernel.invokeFunction('convertToInteractive',\n",
              "                                                     [key], {});\n",
              "          if (!dataTable) return;\n",
              "\n",
              "          const docLinkHtml = 'Like what you see? Visit the ' +\n",
              "            '<a target=\"_blank\" href=https://colab.research.google.com/notebooks/data_table.ipynb>data table notebook</a>'\n",
              "            + ' to learn more about interactive tables.';\n",
              "          element.innerHTML = '';\n",
              "          dataTable['output_type'] = 'display_data';\n",
              "          await google.colab.output.renderOutput(dataTable, element);\n",
              "          const docLink = document.createElement('div');\n",
              "          docLink.innerHTML = docLinkHtml;\n",
              "          element.appendChild(docLink);\n",
              "        }\n",
              "      </script>\n",
              "    </div>\n",
              "  </div>\n",
              "  "
            ]
          },
          "metadata": {},
          "execution_count": 11
        }
      ]
    },
    {
      "cell_type": "code",
      "source": [
        "def test(sidoName):\n",
        "  URL = ('http://apis.data.go.kr/B552584/ArpltnStatsSvc/'\n",
        "      'getCtprvnMesureSidoLIst?'\n",
        "      'sidoName='+sidoName+\n",
        "      '&searchCondition=hour'\n",
        "      '&pageNo=1'\n",
        "      '&numOfRows=100'\n",
        "      '&returnType=json'\n",
        "      '&serviceKey=miH%2BZXg85lQy4%2FkmhffvygXDIFiTwisriSLxtyECSzw6hxTVK7yI8QKIOc7mP7LEqCnhBGuj6iW1gZW65dum7A%3D%3D')\n",
        "  \n",
        "  response = requests.get(URL)\n",
        "  r = response.json()\n",
        "  items = r['response']['body']['items']\n",
        "\n",
        "  cityName = [item['cityName'] for item in items]\n",
        "  pm10Value = [item['pm10Value'] for item in items]\n",
        "  pm25Value = [item['pm25Value'] for item in items]\n",
        "  so2Value = [item['so2Value'] for item in items]\n",
        "  coValue = [item['coValue'] for item in items]\n",
        "  o3Value = [item['o3Value'] for item in items]\n",
        "  no2Value = [item['no2Value'] for item in items]\n",
        "\n",
        "  pd_cityName = pd.Series(cityName)\n",
        "  pd_pm10Value = pd.Series(pm10Value)   \n",
        "  pd_pm25Value = pd.Series(pm25Value)\n",
        "  so2Value = pd.Series(so2Value)\n",
        "  coValue = pd.Series(coValue)\n",
        "  o3Value = pd.Series(o3Value)\n",
        "  no2Value = pd.Series(no2Value)\n",
        "\n",
        "  df = pd.DataFrame({ 'cityName': cityName, 'pm10Value': pm10Value, 'pm25Value': pm25Value, 'so2Value': so2Value, 'coValue': coValue, 'o3Value': o3Value, 'no2Value': no2Value})\n",
        "  return df"
      ],
      "metadata": {
        "id": "xa2Gb_qsm_G5"
      },
      "execution_count": null,
      "outputs": []
    },
    {
      "cell_type": "code",
      "source": [
        "iface = gr.Interface(test, gr.inputs.Dropdown(['서울', '부산', '대구', '인천', '광주', '대전', '울산', '경기', '강원', '충북', '충남', '전북', '전남', '경북', '경남', '제주', '세종']), outputs=['dataframe'])\n",
        "iface.launch(debug=True)"
      ],
      "metadata": {
        "id": "kxORJVPOnDSP",
        "outputId": "f394f8de-539c-4e16-db4b-1bd253f38645",
        "colab": {
          "base_uri": "https://localhost:8080/",
          "height": 591
        }
      },
      "execution_count": null,
      "outputs": [
        {
          "output_type": "stream",
          "name": "stdout",
          "text": [
            "Colab notebook detected. This cell will run indefinitely so that you can see errors and logs. To turn off, set debug=False in launch().\n",
            "Running on public URL: https://14609.gradio.app\n",
            "\n",
            "This share link expires in 72 hours. For free permanent hosting, check out Spaces (https://huggingface.co/spaces)\n"
          ]
        },
        {
          "output_type": "display_data",
          "data": {
            "text/plain": [
              "<IPython.lib.display.IFrame at 0x7f7106ad3ed0>"
            ],
            "text/html": [
              "\n",
              "        <iframe\n",
              "            width=\"900\"\n",
              "            height=\"500\"\n",
              "            src=\"https://14609.gradio.app\"\n",
              "            frameborder=\"0\"\n",
              "            allowfullscreen\n",
              "        ></iframe>\n",
              "        "
            ]
          },
          "metadata": {}
        }
      ]
    }
  ]
}