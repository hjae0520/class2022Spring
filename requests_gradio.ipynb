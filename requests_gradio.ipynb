{
  "nbformat": 4,
  "nbformat_minor": 0,
  "metadata": {
    "colab": {
      "name": "requests_gradio.ipynb",
      "provenance": [],
      "include_colab_link": true
    },
    "kernelspec": {
      "name": "python3",
      "display_name": "Python 3"
    },
    "language_info": {
      "name": "python"
    }
  },
  "cells": [
    {
      "cell_type": "markdown",
      "metadata": {
        "id": "view-in-github",
        "colab_type": "text"
      },
      "source": [
        "<a href=\"https://colab.research.google.com/github/hjae0520/class2022Spring/blob/main/requests_gradio.ipynb\" target=\"_parent\"><img src=\"https://colab.research.google.com/assets/colab-badge.svg\" alt=\"Open In Colab\"/></a>"
      ]
    },
    {
      "cell_type": "markdown",
      "source": [
        "과제:API, Gradio, 미세먼지 말고, 겹치지 않게\n",
        "다음 주 수요일 수업전까지\n",
        "파일명 20220328.ipynb"
      ],
      "metadata": {
        "id": "TZLl-on2jnEZ"
      }
    },
    {
      "cell_type": "markdown",
      "source": [
        "API: 개발자의 입장에서 특정 프로그램을 내 프로그램으로 가져와서 쓸 수 있게 해주는 것, 프로그래밍의 부품\n",
        "ex. 파파고를 내 프로그램으로 가져와서 쓸 때, 자동번역 api 등등\n",
        "API를 가져오는 것이 requests\n",
        "api 유형은 rest를 사용\n",
        "데이터포맷은 크게 jason or xml을 활용\n"
      ],
      "metadata": {
        "id": "yvKlK1aqzVLP"
      }
    },
    {
      "cell_type": "code",
      "source": [
        "!pip install gradio\n",
        "import gradio as gr\n",
        "import requests\n",
        "import pandas as pd #pandas는 데이터 프레임을 만드는 함수"
      ],
      "metadata": {
        "id": "8eZHGJhmqd9a"
      },
      "execution_count": null,
      "outputs": []
    },
    {
      "cell_type": "code",
      "source": [
        "# requests.get(요청메세지 = 주소)"
      ],
      "metadata": {
        "id": "-IrBUpJ64oQo"
      },
      "execution_count": null,
      "outputs": []
    },
    {
      "cell_type": "code",
      "source": [
        "URL = ('http://apis.data.go.kr/B552584/ArpltnStatsSvc/'    # 메뉴얼 상 서비스 URL, rest api\n",
        "      'getCtprvnMesureSidoLIst?'                          # 사용하려는 상세기능명 + ?\n",
        "      'sidoName=서울'                                     # 요청 메세지 명세(세부 항목) ex.시도 명 = ~~ & 검색 시간 = ~~  & 항수 = ~~~ 등 메뉴얼에 다 나와 있음\n",
        "      '&searchCondition=hour'\n",
        "      '&pageNo=1'\n",
        "      '&numOfRows=100'\n",
        "      '&returnType=json'                                  # returntype - 중요\n",
        "      '&serviceKey=miH%2BZXg85lQy4%2FkmhffvygXDIFiTwisriSLxtyECSzw6hxTVK7yI8QKIOc7mP7LEqCnhBGuj6iW1gZW65dum7A%3D%3D')       # 서비스 키, 여기까지가 api 사용끝\n",
        "response = requests.get(URL)"
      ],
      "metadata": {
        "id": "lHHEwqpyJF7r"
      },
      "execution_count": null,
      "outputs": []
    },
    {
      "cell_type": "code",
      "source": [
        "response # 200 --> response code, 200은 잘 처리가 되었다는 뜻"
      ],
      "metadata": {
        "colab": {
          "base_uri": "https://localhost:8080/"
        },
        "id": "yPvmYEOq6TBQ",
        "outputId": "2b47779d-5c1e-486d-a366-022d4c9ae32a"
      },
      "execution_count": null,
      "outputs": [
        {
          "output_type": "execute_result",
          "data": {
            "text/plain": [
              "<Response [200]>"
            ]
          },
          "metadata": {},
          "execution_count": 3
        }
      ]
    },
    {
      "cell_type": "markdown",
      "source": [
        "#### http://jsonviewer.stack.hu/ (copy json here to view json)"
      ],
      "metadata": {
        "id": "faIENRyFfnY1"
      }
    },
    {
      "cell_type": "code",
      "source": [
        "r = response.json() # response에 있는 내용 확인 방법, r 출력값을 복사해서 위 사이트에 붙여넣기 하면 Jason의 구조를 확인할 수 있음 Jason -> response -> body -> items -> 0~24...\n",
        "r"
      ],
      "metadata": {
        "id": "JcLKwg0foR9p"
      },
      "execution_count": null,
      "outputs": []
    },
    {
      "cell_type": "code",
      "source": [
        "type (r) # dict -> {key : values} -> z {key} = value 활용"
      ],
      "metadata": {
        "colab": {
          "base_uri": "https://localhost:8080/"
        },
        "id": "-7080Ybt7wjc",
        "outputId": "4b31c230-3199-47bd-952e-f392de846d39"
      },
      "execution_count": null,
      "outputs": [
        {
          "output_type": "execute_result",
          "data": {
            "text/plain": [
              "dict"
            ]
          },
          "metadata": {},
          "execution_count": 6
        }
      ]
    },
    {
      "cell_type": "code",
      "source": [
        "items = r['response']['body']['items'] # list로 되어 있는데 그 안을 시, 구별 dict들이 채우고 있음, items [0]: 맨 처음인 강남구 dict가 출력\n",
        "items[0]                               "
      ],
      "metadata": {
        "colab": {
          "base_uri": "https://localhost:8080/"
        },
        "id": "4dnnjo2V8aaA",
        "outputId": "15b2b116-d31b-4089-f04c-f14e50753a26"
      },
      "execution_count": null,
      "outputs": [
        {
          "output_type": "execute_result",
          "data": {
            "text/plain": [
              "{'cityName': '강남구',\n",
              " 'cityNameEng': 'Gangnam-gu',\n",
              " 'coValue': '0.3',\n",
              " 'dataGubun': '',\n",
              " 'dataTime': '2022-03-23 17:00',\n",
              " 'districtCode': '02',\n",
              " 'districtNumSeq': '001',\n",
              " 'itemCode': '',\n",
              " 'khaiValue': '',\n",
              " 'no2Value': '0.023',\n",
              " 'numOfRows': '10',\n",
              " 'o3Value': '0.036',\n",
              " 'pageNo': '1',\n",
              " 'pm10Value': '32',\n",
              " 'pm25Value': '16',\n",
              " 'resultCode': '',\n",
              " 'resultMsg': '',\n",
              " 'returnType': 'json',\n",
              " 'searchCondition': '',\n",
              " 'serviceKey': '',\n",
              " 'sidoName': '서울',\n",
              " 'so2Value': '0.003',\n",
              " 'totalCount': ''}"
            ]
          },
          "metadata": {},
          "execution_count": 8
        }
      ]
    },
    {
      "cell_type": "code",
      "source": [
        "items = r['response']['body']['items'] # response 중에 body 중에 items을 items이라는 변수로 받겠다, 이걸 pandas로 data frame을 만드는 것이 목표\n",
        "\n",
        "cityName = [item['cityName'] for item in items]           # list comprehension을 활용, in items (items 중에서), for item (item이라는 변수를 하나씩 받을 건데), 그것들에 cityName을 붙일 거다\n",
        "pm10Value = [item['pm10Value'] for item in items]         # \n",
        "pm25Value = [item['pm25Value'] for item in items]\n",
        "so2Value = [item['so2Value'] for item in items]\n",
        "coValue = [item['coValue'] for item in items]\n",
        "o3Value = [item['o3Value'] for item in items]\n",
        "no2Value = [item['no2Value'] for item in items]\n",
        "\n",
        "cityName = pd.Series(cityName)     # key값을 데이터 프레임의 x축 값으로 대입,하나의 pd.series는 한 열의 내용을 채울 수 있음\n",
        "pm10Value = pd.Series(pm10Value)   \n",
        "pm25Value = pd.Series(pm25Value)\n",
        "so2Value = pd.Series(so2Value)\n",
        "coValue = pd.Series(coValue)\n",
        "o3Value = pd.Series(o3Value)\n",
        "no2Value = pd.Series(no2Value)\n",
        "\n",
        "df = pd.DataFrame({ 'cityName': cityName, 'pm10Value': pm10Value, 'pm25Value': pm25Value, 'so2Value': so2Value, 'coValue': coValue, 'o3Value': o3Value, 'no2Value': no2Value})\n",
        "# '열의 x축' : 내용값"
      ],
      "metadata": {
        "id": "W8lA0-IzE55W"
      },
      "execution_count": null,
      "outputs": []
    },
    {
      "cell_type": "code",
      "source": [
        "df"
      ],
      "metadata": {
        "id": "W3l0zTmt-4bv"
      },
      "execution_count": null,
      "outputs": []
    },
    {
      "cell_type": "code",
      "source": [
        "def test(sidoName):                                       # gradio는 함수를 전제로 하기 때문에 함수를 정의해야 함, 위의 도시명을 입력하면 해당 도시의 df가 출력되는 식\n",
        "  URL = ('http://apis.data.go.kr/B552584/ArpltnStatsSvc/'\n",
        "      'getCtprvnMesureSidoLIst?'\n",
        "      'sidoName='+sidoName+                       # +sidoname+\n",
        "      '&searchCondition=hour'\n",
        "      '&pageNo=1'\n",
        "      '&numOfRows=100'\n",
        "      '&returnType=json'\n",
        "      '&serviceKey=miH%2BZXg85lQy4%2FkmhffvygXDIFiTwisriSLxtyECSzw6hxTVK7yI8QKIOc7mP7LEqCnhBGuj6iW1gZW65dum7A%3D%3D')\n",
        "  \n",
        "  response = requests.get(URL)\n",
        "  r = response.json()\n",
        "  items = r['response']['body']['items']\n",
        "\n",
        "  cityName = [item['cityName'] for item in items]\n",
        "  pm10Value = [item['pm10Value'] for item in items]\n",
        "  pm25Value = [item['pm25Value'] for item in items]\n",
        "  so2Value = [item['so2Value'] for item in items]\n",
        "  coValue = [item['coValue'] for item in items]\n",
        "  o3Value = [item['o3Value'] for item in items]\n",
        "  no2Value = [item['no2Value'] for item in items]\n",
        "\n",
        "  pd_cityName = pd.Series(cityName)\n",
        "  pd_pm10Value = pd.Series(pm10Value)   \n",
        "  pd_pm25Value = pd.Series(pm25Value)\n",
        "  so2Value = pd.Series(so2Value)\n",
        "  coValue = pd.Series(coValue)\n",
        "  o3Value = pd.Series(o3Value)\n",
        "  no2Value = pd.Series(no2Value)\n",
        "\n",
        "  df = pd.DataFrame({ 'cityName': cityName, 'pm10Value': pm10Value, 'pm25Value': pm25Value, 'so2Value': so2Value, 'coValue': coValue, 'o3Value': o3Value, 'no2Value': no2Value})\n",
        "  return df"
      ],
      "metadata": {
        "id": "xa2Gb_qsm_G5"
      },
      "execution_count": null,
      "outputs": []
    },
    {
      "cell_type": "code",
      "source": [
        "iface = gr.Interface(test, gr.inputs.Dropdown(['서울', '부산', '대구', '인천', '광주', '대전', '울산', '경기', '강원', '충북', '충남', '전북', '전남', '경북', '경남', '제주', '세종']), outputs=['dataframe'])\n",
        "iface.launch(debug=True) #dropdown은 항목 밑으로 나열하는 것"
      ],
      "metadata": {
        "id": "kxORJVPOnDSP",
        "outputId": "f394f8de-539c-4e16-db4b-1bd253f38645",
        "colab": {
          "base_uri": "https://localhost:8080/",
          "height": 591
        }
      },
      "execution_count": null,
      "outputs": [
        {
          "output_type": "stream",
          "name": "stdout",
          "text": [
            "Colab notebook detected. This cell will run indefinitely so that you can see errors and logs. To turn off, set debug=False in launch().\n",
            "Running on public URL: https://14609.gradio.app\n",
            "\n",
            "This share link expires in 72 hours. For free permanent hosting, check out Spaces (https://huggingface.co/spaces)\n"
          ]
        },
        {
          "output_type": "display_data",
          "data": {
            "text/plain": [
              "<IPython.lib.display.IFrame at 0x7f7106ad3ed0>"
            ],
            "text/html": [
              "\n",
              "        <iframe\n",
              "            width=\"900\"\n",
              "            height=\"500\"\n",
              "            src=\"https://14609.gradio.app\"\n",
              "            frameborder=\"0\"\n",
              "            allowfullscreen\n",
              "        ></iframe>\n",
              "        "
            ]
          },
          "metadata": {}
        }
      ]
    }
  ]
}