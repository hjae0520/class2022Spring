{
  "nbformat": 4,
  "nbformat_minor": 0,
  "metadata": {
    "colab": {
      "name": "Untitled5.ipynb",
      "provenance": [],
      "authorship_tag": "ABX9TyN1MC/VFZxZyIk4z1VLIQYm",
      "include_colab_link": true
    },
    "kernelspec": {
      "name": "python3",
      "display_name": "Python 3"
    },
    "language_info": {
      "name": "python"
    }
  },
  "cells": [
    {
      "cell_type": "markdown",
      "metadata": {
        "id": "view-in-github",
        "colab_type": "text"
      },
      "source": [
        "<a href=\"https://colab.research.google.com/github/hjae0520/class2022Spring/blob/main/20220328.ipynb\" target=\"_parent\"><img src=\"https://colab.research.google.com/assets/colab-badge.svg\" alt=\"Open In Colab\"/></a>"
      ]
    },
    {
      "cell_type": "markdown",
      "source": [
        "# 해외대학 한국학 제공 현황"
      ],
      "metadata": {
        "id": "9_sXcCi9hRdI"
      }
    },
    {
      "cell_type": "code",
      "execution_count": null,
      "metadata": {
        "id": "dqM60zyLAPF9"
      },
      "outputs": [],
      "source": [
        "!pip install gradio\n",
        "import gradio as gr\n",
        "import requests\n",
        "import pandas as pd"
      ]
    },
    {
      "cell_type": "code",
      "source": [
        "URL = ('http://apis.data.go.kr/B260004/OverseasKorProvideService2/getKorProvideList2?serviceKey=SWxQ1FgSdG4x9OEr2Vtrk0Ny8b2ntyTXhi6G39K2%2Bz06GYKjNthTl%2BH%2Ftd4OBIKPoiSuC9oGknYY0krclIJzog%3D%3D&pageNo=1&numOfRows=20&cond[country_nm::EQ]=일본')\n",
        "response = requests.get(URL)"
      ],
      "metadata": {
        "id": "yO4AzUEDAYce"
      },
      "execution_count": 71,
      "outputs": []
    },
    {
      "cell_type": "code",
      "source": [
        "r = response.json()\n",
        "r"
      ],
      "metadata": {
        "id": "-U02bd5eChmz"
      },
      "execution_count": null,
      "outputs": []
    },
    {
      "cell_type": "code",
      "source": [
        "def test(Nation):\n",
        "  URL = ('http://apis.data.go.kr/B260004/OverseasKorProvideService2/getKorProvideList2?serviceKey=SWxQ1FgSdG4x9OEr2Vtrk0Ny8b2ntyTXhi6G39K2%2Bz06GYKjNthTl%2BH%2Ftd4OBIKPoiSuC9oGknYY0krclIJzog%3D%3D&pageNo=1&cond[country_nm::EQ]='+Nation+'&numOfRows=20')\n",
        "  \n",
        "  response = requests.get(URL)\n",
        "  r = response.json()\n",
        "  items = r['data']\n",
        "\n",
        "  country_nm = [item['country_nm'] for item in items]\n",
        "  univ_nm = [item['univ_nm'] for item in items]\n",
        "  school_prvd_yn = [item['school_prvd_yn'] for item in items]\n",
        "  bachelor_prvd_yn = [item['bachelor_prvd_yn'] for item in items]\n",
        "  univ_addr = [item['univ_addr'] for item in items]\n",
        "\n",
        "  country_nm = pd.Series(country_nm)\n",
        "  univ_nm = pd.Series(univ_nm)   \n",
        "  school_prvd_yn = pd.Series(school_prvd_yn)\n",
        "  bachelor_prvd_yn = pd.Series(bachelor_prvd_yn)\n",
        "  univ_addr = pd.Series(univ_addr)\n",
        "\n",
        "  df = pd.DataFrame({ 'country_nm': country_nm, 'univ_nm': univ_nm, 'school_prvd_yn': school_prvd_yn, 'bachelor_prvd_yn': bachelor_prvd_yn, 'univ_addr': univ_addr})\n",
        "  return df"
      ],
      "metadata": {
        "id": "o6oSJ3-hK9PJ"
      },
      "execution_count": 79,
      "outputs": []
    },
    {
      "cell_type": "code",
      "source": [
        "iface = gr.Interface(test, gr.inputs.Dropdown(['영국', '중국', '일본', '호주', '터키', '카자흐스탄', '프랑스', '독일', '러시아', '인도']), outputs=['dataframe'])\n",
        "iface.launch(debug=True)"
      ],
      "metadata": {
        "colab": {
          "base_uri": "https://localhost:8080/",
          "height": 665
        },
        "id": "SrY9df1YgemA",
        "outputId": "907506a8-ae79-4b55-e7b4-f78d0e33fde5"
      },
      "execution_count": 80,
      "outputs": [
        {
          "output_type": "stream",
          "name": "stdout",
          "text": [
            "Colab notebook detected. This cell will run indefinitely so that you can see errors and logs. To turn off, set debug=False in launch().\n",
            "Running on public URL: https://19432.gradio.app\n",
            "\n",
            "This share link expires in 72 hours. For free permanent hosting, check out Spaces (https://huggingface.co/spaces)\n"
          ]
        },
        {
          "output_type": "display_data",
          "data": {
            "text/plain": [
              "<IPython.lib.display.IFrame at 0x7f51395b3c90>"
            ],
            "text/html": [
              "\n",
              "        <iframe\n",
              "            width=\"900\"\n",
              "            height=\"500\"\n",
              "            src=\"https://19432.gradio.app\"\n",
              "            frameborder=\"0\"\n",
              "            allowfullscreen\n",
              "        ></iframe>\n",
              "        "
            ]
          },
          "metadata": {}
        },
        {
          "output_type": "stream",
          "name": "stdout",
          "text": [
            "Keyboard interruption in main thread... closing server.\n"
          ]
        },
        {
          "output_type": "execute_result",
          "data": {
            "text/plain": [
              "(<fastapi.applications.FastAPI at 0x7f514869f9d0>,\n",
              " 'http://127.0.0.1:7860/',\n",
              " 'https://19432.gradio.app')"
            ]
          },
          "metadata": {},
          "execution_count": 80
        }
      ]
    }
  ]
}